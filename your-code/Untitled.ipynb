{
 "cells": [
  {
   "cell_type": "code",
   "execution_count": 2,
   "id": "30dea120-4491-40a0-8fa2-3e97d4851125",
   "metadata": {},
   "outputs": [
    {
     "ename": "NameError",
     "evalue": "name 'yr' is not defined",
     "output_type": "error",
     "traceback": [
      "\u001b[0;31m---------------------------------------------------------------------------\u001b[0m",
      "\u001b[0;31mNameError\u001b[0m                                 Traceback (most recent call last)",
      "Cell \u001b[0;32mIn[2], line 7\u001b[0m\n\u001b[1;32m      5\u001b[0m df \u001b[38;5;241m=\u001b[39m pd\u001b[38;5;241m.\u001b[39mDataFrame(columns\u001b[38;5;241m=\u001b[39m[\u001b[38;5;124m'\u001b[39m\u001b[38;5;124mName\u001b[39m\u001b[38;5;124m'\u001b[39m, \u001b[38;5;124m'\u001b[39m\u001b[38;5;124mPrice\u001b[39m\u001b[38;5;124m'\u001b[39m, \u001b[38;5;124m'\u001b[39m\u001b[38;5;124mPuntuacion\u001b[39m\u001b[38;5;124m'\u001b[39m])\n\u001b[1;32m      6\u001b[0m driver \u001b[38;5;241m=\u001b[39m webdriver\u001b[38;5;241m.\u001b[39mChrome()\n\u001b[0;32m----> 7\u001b[0m page_num \u001b[38;5;241m=\u001b[39m \u001b[38;5;28mstr\u001b[39m(\u001b[43myr\u001b[49m) \u001b[38;5;241m+\u001b[39m \u001b[38;5;124m'\u001b[39m\u001b[38;5;124m-\u001b[39m\u001b[38;5;124m'\u001b[39m \u001b[38;5;241m+\u001b[39m \u001b[38;5;28mstr\u001b[39m(yr \u001b[38;5;241m+\u001b[39m \u001b[38;5;241m1\u001b[39m) \u001b[38;5;241m+\u001b[39m \u001b[38;5;124m'\u001b[39m\u001b[38;5;124m/\u001b[39m\u001b[38;5;124m'\u001b[39m\n\u001b[1;32m      8\u001b[0m url \u001b[38;5;241m=\u001b[39m \u001b[38;5;124m'\u001b[39m\u001b[38;5;124mhttps://www.booking.com/searchresults.es.html?ss=Barcelona&ssne=Barcelona&ssne_untouched=Barcelona&efdco=1&label=gen173nr-1FCAEoggI46AdIM1gEaEaIAQGYAQq4ARfIAQzYAQHoAQH4AQuIAgGoAgO4ArCmvrIGwAIB0gIkZDA0OWI0ZTUtNTM2ZS00MzhmLTg1NWQtOTY1ODQ2ZGM5ODc42AIG4AIB&sid=7136297e934a7096fbb4fe750d0e4099&aid=304142&lang=es&sb=1&src_elem=sb&src=searchresults&dest_id=-372490&dest_type=city&checkin=2024-08-01&checkout=2024-08-07&group_adults=1&no_rooms=1&group_children=0\u001b[39m\u001b[38;5;124m'\u001b[39m\n\u001b[1;32m      9\u001b[0m driver\u001b[38;5;241m.\u001b[39mget(url)\n",
      "\u001b[0;31mNameError\u001b[0m: name 'yr' is not defined"
     ]
    }
   ],
   "source": [
    "# Importing the necessary libraries\n",
    "from selenium import webdriver  # Used to automate web browser interaction\n",
    "from selenium.webdriver.common.by import By  # Helps in locating elements on web pages\n",
    "import pandas as pd  # Pandas library for data manipulation and analysis\n",
    "df = pd.DataFrame(columns=['Name', 'Price', 'Puntuacion'])\n",
    "driver = webdriver.Chrome()\n",
    "page_num = str(yr) + '-' + str(yr + 1) + '/'\n",
    "url = 'https://www.booking.com/searchresults.es.html?ss=Barcelona&ssne=Barcelona&ssne_untouched=Barcelona&efdco=1&label=gen173nr-1FCAEoggI46AdIM1gEaEaIAQGYAQq4ARfIAQzYAQHoAQH4AQuIAgGoAgO4ArCmvrIGwAIB0gIkZDA0OWI0ZTUtNTM2ZS00MzhmLTg1NWQtOTY1ODQ2ZGM5ODc42AIG4AIB&sid=7136297e934a7096fbb4fe750d0e4099&aid=304142&lang=es&sb=1&src_elem=sb&src=searchresults&dest_id=-372490&dest_type=city&checkin=2024-08-01&checkout=2024-08-07&group_adults=1&no_rooms=1&group_children=0'\n",
    "driver.get(url)\n",
    "names = driver.find_elements(By.XPATH, \"//div[@data-testid='title']\")\n",
    "puntuaciones = driver.find_elements(By.XPATH, '//div[@class = \"a3b8729ab1 d86cee9b25\"]')\n",
    "prices = driver.find_elements(By.XPATH, '//span[@data-testid= \"price-and-discounted-price\"]')\n",
    "name_list = [name.text for name in names]\n",
    "puntuaciones_list = [puntuacion.text for puntuacion in puntuaciones]\n",
    "prices_list = [price.text for price in prices]\n",
    "data_tuples = list(zip(name_list[1:], puntuaciones_list[1:],prices_list[1:]))\n",
    "booking2 = pd.DataFrame(list(zip(name_list[1:], puntuaciones_list[1:],prices_list[1:])), columns=['Name', 'Price', 'Puntuacion'])\n",
    "driver.close()\n",
    "booking2"
   ]
  },
  {
   "cell_type": "code",
   "execution_count": null,
   "id": "57d56f2f-19c3-4eac-a657-3fb3e41f0259",
   "metadata": {},
   "outputs": [],
   "source": []
  }
 ],
 "metadata": {
  "kernelspec": {
   "display_name": "Python 3 (ipykernel)",
   "language": "python",
   "name": "python3"
  },
  "language_info": {
   "codemirror_mode": {
    "name": "ipython",
    "version": 3
   },
   "file_extension": ".py",
   "mimetype": "text/x-python",
   "name": "python",
   "nbconvert_exporter": "python",
   "pygments_lexer": "ipython3",
   "version": "3.9.6"
  }
 },
 "nbformat": 4,
 "nbformat_minor": 5
}
